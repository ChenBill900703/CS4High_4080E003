{
  "nbformat": 4,
  "nbformat_minor": 0,
  "metadata": {
    "colab": {
      "name": "Untitled1.ipynb",
      "version": "0.3.2",
      "provenance": [],
      "include_colab_link": true
    },
    "kernelspec": {
      "name": "python3",
      "display_name": "Python 3"
    }
  },
  "cells": [
    {
      "cell_type": "markdown",
      "metadata": {
        "id": "view-in-github",
        "colab_type": "text"
      },
      "source": [
        "<a href=\"https://colab.research.google.com/github/ChenBill900703/CS4High_4080E003/blob/master/ChrismasTree.ipynb\" target=\"_parent\"><img src=\"https://colab.research.google.com/assets/colab-badge.svg\" alt=\"Open In Colab\"/></a>"
      ]
    },
    {
      "cell_type": "code",
      "metadata": {
        "id": "Y8NDcP1oM8pg",
        "colab_type": "code",
        "colab": {
          "base_uri": "https://localhost:8080/",
          "height": 272
        },
        "outputId": "158db751-1821-4b2f-8572-a59e14e12760"
      },
      "source": [
        "print(\"　　　　     *　　　　　  \")\n",
        "print(\"　　　　    ***　　　　   \")\n",
        "print(\"　　　     *****　　　　  \")\n",
        "print(\"　　　    *******　　　　  \")\n",
        "print(\"　　     *********　　　  \")\n",
        "print(\"　　    ***********　　　  \")\n",
        "print(\"　     *************　　  \")\n",
        "print(\"　    ***************　　  \")\n",
        "print(\"　   *****************　　  \")\n",
        "print(\"　          ***　　  \")\n",
        "print(\"　          ***　　  \")\n",
        "print(\"　          ***　　  \")\n",
        "print(\"　          ***　　  \")\n",
        "print(\"　          ***　　  \")\n",
        "print(\"　          ***　　  \")"
      ],
      "execution_count": 45,
      "outputs": [
        {
          "output_type": "stream",
          "text": [
            "　　　　     *　　　　　  \n",
            "　　　　    ***　　　　   \n",
            "　　　     *****　　　　  \n",
            "　　　    *******　　　　  \n",
            "　　     *********　　　  \n",
            "　　    ***********　　　  \n",
            "　     *************　　  \n",
            "　    ***************　　  \n",
            "　   *****************　　  \n",
            "　          ***　　  \n",
            "　          ***　　  \n",
            "　          ***　　  \n",
            "　          ***　　  \n",
            "　          ***　　  \n",
            "　          ***　　  \n"
          ],
          "name": "stdout"
        }
      ]
    }
  ]
}